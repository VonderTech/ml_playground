{
 "cells": [
  {
   "cell_type": "markdown",
   "metadata": {},
   "source": [
    "## Matrix Multiplication\n",
    "\n",
    "Multiplying matrices is essentially calculating the dot product multiple times. However, there are some rules to consider when multiplying matrices:\n",
    "\n",
    "- Matrices can only be multiplied if the number of columns in the first matrix is equal to the number of rows in the second matrix.\n",
    "- In Python, matrix multiplication is performed using the `@` symbol.\n"
   ]
  },
  {
   "cell_type": "code",
   "execution_count": 10,
   "metadata": {},
   "outputs": [
    {
     "name": "stdout",
     "output_type": "stream",
     "text": [
      "[[0.94  0.615 1.239 1.454]\n",
      " [0.745 0.405 0.747 1.099]\n",
      " [0.791 0.402 0.856 1.332]]\n"
     ]
    }
   ],
   "source": [
    "import numpy as np\n",
    "\n",
    "# Create a random matrix\n",
    "matrixM = np.random.rand(3, 4)\n",
    "matrixN = np.random.rand(4, 4)\n",
    "\n",
    "result = np.round(matrixM @ matrixN, 3)\n",
    "print(np.round(result, 3))\n"
   ]
  },
  {
   "cell_type": "markdown",
   "metadata": {},
   "source": [
    "And with PyTorch"
   ]
  },
  {
   "cell_type": "code",
   "execution_count": 1,
   "metadata": {},
   "outputs": [
    {
     "ename": "NameError",
     "evalue": "name 'np' is not defined",
     "output_type": "error",
     "traceback": [
      "\u001b[1;31m---------------------------------------------------------------------------\u001b[0m",
      "\u001b[1;31mNameError\u001b[0m                                 Traceback (most recent call last)",
      "Cell \u001b[1;32mIn[1], line 9\u001b[0m\n\u001b[0;32m      6\u001b[0m matrixN \u001b[38;5;241m=\u001b[39m torch\u001b[38;5;241m.\u001b[39mrand(\u001b[38;5;241m4\u001b[39m, \u001b[38;5;241m4\u001b[39m)\n\u001b[0;32m      8\u001b[0m result \u001b[38;5;241m=\u001b[39m torch\u001b[38;5;241m.\u001b[39mmm(matrixM, matrixN)\n\u001b[1;32m----> 9\u001b[0m \u001b[38;5;28mprint\u001b[39m(\u001b[43mnp\u001b[49m\u001b[38;5;241m.\u001b[39mround(result, \u001b[38;5;241m3\u001b[39m))\n\u001b[0;32m     11\u001b[0m \u001b[38;5;66;03m# numpy and torch can be mixed for matrix operations\u001b[39;00m\n\u001b[0;32m     12\u001b[0m matrixI \u001b[38;5;241m=\u001b[39m matrixN\u001b[38;5;241m.\u001b[39mnumpy()\n",
      "\u001b[1;31mNameError\u001b[0m: name 'np' is not defined"
     ]
    }
   ],
   "source": [
    "from numpy import matrix\n",
    "import torch\n",
    "\n",
    "# Create a random matrix\n",
    "matrixM = torch.rand(3, 4)\n",
    "matrixN = torch.rand(4, 4)\n",
    "\n",
    "result = torch.mm(matrixM, matrixN)\n",
    "print(np.round(result, 3))\n",
    "\n",
    "# numpy and torch can be mixed for matrix operations\n",
    "matrixI = matrixN.numpy()\n",
    "print(np.round(matrixM @ matrixI, 3))\n"
   ]
  }
 ],
 "metadata": {
  "kernelspec": {
   "display_name": "Python 3",
   "language": "python",
   "name": "python3"
  },
  "language_info": {
   "codemirror_mode": {
    "name": "ipython",
    "version": 3
   },
   "file_extension": ".py",
   "mimetype": "text/x-python",
   "name": "python",
   "nbconvert_exporter": "python",
   "pygments_lexer": "ipython3",
   "version": "3.12.3"
  }
 },
 "nbformat": 4,
 "nbformat_minor": 2
}
