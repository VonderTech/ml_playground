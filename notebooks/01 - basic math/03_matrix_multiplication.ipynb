{
 "cells": [
  {
   "cell_type": "markdown",
   "metadata": {},
   "source": [
    "## Matrix Multiplication\n",
    "\n",
    "Multiplying matrices is essentially calculating the dot product multiple times. However, there are some rules to consider when multiplying matrices:\n",
    "\n",
    "- Matrices can only be multiplied if the number of columns in the first matrix is equal to the number of rows in the second matrix.\n",
    "- In Python, matrix multiplication is performed using the `@` symbol.\n"
   ]
  },
  {
   "cell_type": "code",
   "execution_count": 10,
   "metadata": {},
   "outputs": [
    {
     "name": "stdout",
     "output_type": "stream",
     "text": [
      "[[0.94  0.615 1.239 1.454]\n",
      " [0.745 0.405 0.747 1.099]\n",
      " [0.791 0.402 0.856 1.332]]\n"
     ]
    }
   ],
   "source": [
    "import numpy as np\n",
    "\n",
    "# Create a random matrix\n",
    "matrixM = np.random.rand(3, 4)\n",
    "matrixN = np.random.rand(4, 4)\n",
    "\n",
    "result = np.round(matrixM @ matrixN, 3)\n",
    "print(np.round(result, 3))\n"
   ]
  },
  {
   "cell_type": "markdown",
   "metadata": {},
   "source": [
    "And with PyTorch"
   ]
  },
  {
   "cell_type": "code",
   "execution_count": 14,
   "metadata": {},
   "outputs": [
    {
     "name": "stdout",
     "output_type": "stream",
     "text": [
      "tensor([[0.8680, 0.7480, 0.8490, 1.2400],\n",
      "        [1.6380, 1.7070, 1.5460, 1.8300],\n",
      "        [1.3900, 1.5440, 1.3000, 1.4850]])\n",
      "tensor([[0.8680, 0.7480, 0.8490, 1.2400],\n",
      "        [1.6380, 1.7070, 1.5460, 1.8300],\n",
      "        [1.3900, 1.5440, 1.3000, 1.4850]])\n"
     ]
    }
   ],
   "source": [
    "from numpy import matrix\n",
    "import torch\n",
    "\n",
    "# Create a random matrix\n",
    "matrixM = torch.rand(3, 4)\n",
    "matrixN = torch.rand(4, 4)\n",
    "\n",
    "result = torch.mm(matrixM, matrixN)\n",
    "print(np.round(result, 3))\n",
    "\n",
    "# numpy and torch can be mixed for matrix operations\n",
    "matrixI = matrixN.numpy()\n",
    "print(np.round(matrixM @ matrixI, 3))\n"
   ]
  }
 ],
 "metadata": {
  "kernelspec": {
   "display_name": "Python 3",
   "language": "python",
   "name": "python3"
  },
  "language_info": {
   "codemirror_mode": {
    "name": "ipython",
    "version": 3
   },
   "file_extension": ".py",
   "mimetype": "text/x-python",
   "name": "python",
   "nbconvert_exporter": "python",
   "pygments_lexer": "ipython3",
   "version": "3.12.3"
  }
 },
 "nbformat": 4,
 "nbformat_minor": 2
}
