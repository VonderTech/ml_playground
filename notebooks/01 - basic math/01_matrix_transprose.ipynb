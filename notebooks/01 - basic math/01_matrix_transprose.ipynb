{
 "cells": [
  {
   "cell_type": "markdown",
   "metadata": {},
   "source": [
    "## Matrix transpose"
   ]
  },
  {
   "cell_type": "code",
   "execution_count": 9,
   "metadata": {},
   "outputs": [
    {
     "name": "stdout",
     "output_type": "stream",
     "text": [
      "Tpye of horizontal vector: <class 'numpy.ndarray'>\n",
      "Horizontal vector:\n",
      " [[1 2 3]]\n",
      "Horizontal vector shape: (1, 3)\n",
      "\n",
      "Vertical vector:\n",
      " [[1]\n",
      " [2]\n",
      " [3]]\n",
      "Vertical vector shape: (3, 1)\n",
      "\n",
      "Type of matrix: <class 'numpy.ndarray'>\n",
      "Matrix:\n",
      " [[1 2 3]\n",
      " [4 5 6]]\n",
      "Matrix shape: (2, 3)\n",
      "\n",
      "Transposed matrix:\n",
      " [[1 4]\n",
      " [2 5]\n",
      " [3 6]]\n",
      "Transposed matrix shape: (3, 2)\n",
      "\n"
     ]
    }
   ],
   "source": [
    "import numpy as np\n",
    "\n",
    "# first row of the matrix\n",
    "horizontalVector = np.array([[1, 2, 3]])\n",
    "print(\"Tpye of horizontal vector:\", type(horizontalVector))\n",
    "\n",
    "print(\"Horizontal vector:\\n\", horizontalVector)\n",
    "print(\"Horizontal vector shape:\", horizontalVector.shape)\n",
    "print()\n",
    "\n",
    "# transpose the vector\n",
    "verticalVector = horizontalVector.T\n",
    "print(\"Vertical vector:\\n\", verticalVector)\n",
    "print(\"Vertical vector shape:\", verticalVector.shape)\n",
    "print()\n",
    "\n",
    "# for a matrix\n",
    "matrix = np.array([[1, 2, 3], [4, 5, 6]])\n",
    "print(\"Type of matrix:\", type(matrix))\n",
    "print(\"Matrix:\\n\", matrix)\n",
    "print(\"Matrix shape:\", matrix.shape)\n",
    "print()\n",
    "\n",
    "# transpose the matrix\n",
    "transposedMatrix = matrix.T\n",
    "print(\"Transposed matrix:\\n\", transposedMatrix)\n",
    "print(\"Transposed matrix shape:\", transposedMatrix.shape)\n",
    "print()\n"
   ]
  },
  {
   "cell_type": "markdown",
   "metadata": {},
   "source": [
    "With PyTorch it is exactly the same"
   ]
  },
  {
   "cell_type": "code",
   "execution_count": 8,
   "metadata": {},
   "outputs": [
    {
     "name": "stdout",
     "output_type": "stream",
     "text": [
      "Tpye of horizontal vector: <class 'torch.Tensor'>\n",
      "Horizontal torch vector:\n",
      " tensor([[1, 2, 3]])\n",
      "Horizontal torch vector shape: torch.Size([1, 3])\n",
      "\n",
      "Vertical torch vector:\n",
      " tensor([[1],\n",
      "        [2],\n",
      "        [3]])\n",
      "Vertical torch vector shape: torch.Size([3, 1])\n",
      "\n",
      "Type of matrix: <class 'torch.Tensor'>\n",
      "Matrix:\n",
      " tensor([[1, 2, 3],\n",
      "        [4, 5, 6]])\n",
      "Matrix shape: torch.Size([2, 3])\n",
      "\n",
      "Transposed matrix:\n",
      " tensor([[1, 4],\n",
      "        [2, 5],\n",
      "        [3, 6]])\n",
      "Transposed matrix shape: torch.Size([3, 2])\n",
      "\n"
     ]
    }
   ],
   "source": [
    "import torch\n",
    "\n",
    "# first row of the matrix - here using torch and tensor\n",
    "horizontalTorchVector = torch.tensor([[1, 2, 3]])\n",
    "print(\"Tpye of horizontal vector:\", type(horizontalTorchVector))\n",
    "\n",
    "print(\"Horizontal torch vector:\\n\", horizontalTorchVector)\n",
    "print(\"Horizontal torch vector shape:\", horizontalTorchVector.shape)\n",
    "print()\n",
    "\n",
    "# transpose the vector\n",
    "verticalTorchVector = horizontalTorchVector.T\n",
    "print(\"Vertical torch vector:\\n\", verticalTorchVector)\n",
    "print(\"Vertical torch vector shape:\", verticalTorchVector.shape)\n",
    "print()\n",
    "\n",
    "# for a matrix\n",
    "matrix = torch.tensor([[1, 2, 3], [4, 5, 6]])\n",
    "print(\"Type of matrix:\", type(matrix))\n",
    "print(\"Matrix:\\n\", matrix)\n",
    "print(\"Matrix shape:\", matrix.shape)\n",
    "print()\n",
    "\n",
    "# transpose the matrix\n",
    "transposedMatrix = matrix.T\n",
    "print(\"Transposed matrix:\\n\", transposedMatrix)\n",
    "print(\"Transposed matrix shape:\", transposedMatrix.shape)\n",
    "print()\n"
   ]
  }
 ],
 "metadata": {
  "kernelspec": {
   "display_name": "Python 3",
   "language": "python",
   "name": "python3"
  },
  "language_info": {
   "codemirror_mode": {
    "name": "ipython",
    "version": 3
   },
   "file_extension": ".py",
   "mimetype": "text/x-python",
   "name": "python",
   "nbconvert_exporter": "python",
   "pygments_lexer": "ipython3",
   "version": "3.12.3"
  }
 },
 "nbformat": 4,
 "nbformat_minor": 2
}
