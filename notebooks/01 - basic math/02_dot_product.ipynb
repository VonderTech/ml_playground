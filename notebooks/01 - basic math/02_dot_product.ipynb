{
 "cells": [
  {
   "cell_type": "markdown",
   "metadata": {},
   "source": [
    "## Dot product\n",
    "\n",
    "One of the most common operations in linear algebra is the dot product. And for machine learning, this operation is used in many algorithms.\n",
    "Important! The shape of the vector / matrix needs to be the same, else it won't work\n",
    "\n",
    "70 "
   ]
  },
  {
   "cell_type": "code",
   "execution_count": 3,
   "metadata": {},
   "outputs": [
    {
     "name": "stdout",
     "output_type": "stream",
     "text": [
      "[[32]]\n"
     ]
    }
   ],
   "source": [
    "## Dot product of two vectors\n",
    "import numpy as np\n",
    "\n",
    "firstVector = np.array([[1, 2, 3]])\n",
    "secondVector = np.array([[4, 5, 6]])\n",
    "result = np.dot(firstVector, secondVector.T)\n",
    "print(result)"
   ]
  },
  {
   "cell_type": "code",
   "execution_count": 4,
   "metadata": {},
   "outputs": [
    {
     "name": "stdout",
     "output_type": "stream",
     "text": [
      "[[ 58  64]\n",
      " [139 154]]\n"
     ]
    }
   ],
   "source": [
    "## Matrix multiplication\n",
    "firstMatrix = np.array([[1, 2, 3], [4, 5, 6]])\n",
    "secondMatrix = np.array([[7, 8], [9, 10], [11, 12]])\n",
    "result = np.dot(firstMatrix, secondMatrix)\n",
    "print(result)"
   ]
  },
  {
   "cell_type": "code",
   "execution_count": 5,
   "metadata": {},
   "outputs": [
    {
     "ename": "ValueError",
     "evalue": "shapes (2,3) and (2,2) not aligned: 3 (dim 1) != 2 (dim 0)",
     "output_type": "error",
     "traceback": [
      "\u001b[1;31m---------------------------------------------------------------------------\u001b[0m",
      "\u001b[1;31mValueError\u001b[0m                                Traceback (most recent call last)",
      "Cell \u001b[1;32mIn[5], line 4\u001b[0m\n\u001b[0;32m      2\u001b[0m firstMatrix \u001b[38;5;241m=\u001b[39m np\u001b[38;5;241m.\u001b[39marray([[\u001b[38;5;241m1\u001b[39m, \u001b[38;5;241m2\u001b[39m, \u001b[38;5;241m3\u001b[39m], [\u001b[38;5;241m4\u001b[39m, \u001b[38;5;241m5\u001b[39m, \u001b[38;5;241m6\u001b[39m]])\n\u001b[0;32m      3\u001b[0m secondMatrix \u001b[38;5;241m=\u001b[39m np\u001b[38;5;241m.\u001b[39marray([[\u001b[38;5;241m7\u001b[39m, \u001b[38;5;241m8\u001b[39m], [\u001b[38;5;241m9\u001b[39m, \u001b[38;5;241m10\u001b[39m]])\n\u001b[1;32m----> 4\u001b[0m result \u001b[38;5;241m=\u001b[39m \u001b[43mnp\u001b[49m\u001b[38;5;241;43m.\u001b[39;49m\u001b[43mdot\u001b[49m\u001b[43m(\u001b[49m\u001b[43mfirstMatrix\u001b[49m\u001b[43m,\u001b[49m\u001b[43m \u001b[49m\u001b[43msecondMatrix\u001b[49m\u001b[43m)\u001b[49m\n\u001b[0;32m      5\u001b[0m \u001b[38;5;28mprint\u001b[39m(result)  \u001b[38;5;66;03m# ValueError: shapes (2,3) and (2,2) not aligned: 3 (dim 1) != 2 (dim 0)\u001b[39;00m\n",
      "\u001b[1;31mValueError\u001b[0m: shapes (2,3) and (2,2) not aligned: 3 (dim 1) != 2 (dim 0)"
     ]
    }
   ],
   "source": [
    "# if the shapes of the two matrices are not compatible, the dot product will not be possible\n",
    "firstMatrix = np.array([[1, 2, 3], [4, 5, 6]])\n",
    "secondMatrix = np.array([[7, 8], [9, 10]])\n",
    "result = np.dot(firstMatrix, secondMatrix)\n",
    "print(result)  # ValueError: shapes (2,3) and (2,2) not aligned: 3 (dim 1) != 2 (dim 0)"
   ]
  },
  {
   "cell_type": "markdown",
   "metadata": {},
   "source": [
    "Using PyTorch"
   ]
  },
  {
   "cell_type": "code",
   "execution_count": null,
   "metadata": {},
   "outputs": [
    {
     "name": "stdout",
     "output_type": "stream",
     "text": [
      "tensor(32)\n",
      "tensor([[ 58,  64],\n",
      "        [139, 154]])\n"
     ]
    }
   ],
   "source": [
    "import torch\n",
    "\n",
    "firstVector = torch.tensor([1, 2, 3])\n",
    "secondVector = torch.tensor([4, 5, 6])\n",
    "\n",
    "result = torch.dot(firstVector, secondVector)\n",
    "print(result)\n",
    "\n",
    "# Matrix multiplication\n",
    "firstMatrix = torch.tensor([[1, 2, 3], [4, 5, 6]])\n",
    "secondMatrix = torch.tensor([[7, 8], [9, 10], [11, 12]])\n",
    "\n",
    "result = torch.mm(firstMatrix, secondMatrix)\n",
    "print(result)"
   ]
  }
 ],
 "metadata": {
  "kernelspec": {
   "display_name": "Python 3",
   "language": "python",
   "name": "python3"
  },
  "language_info": {
   "codemirror_mode": {
    "name": "ipython",
    "version": 3
   },
   "file_extension": ".py",
   "mimetype": "text/x-python",
   "name": "python",
   "nbconvert_exporter": "python",
   "pygments_lexer": "ipython3",
   "version": "3.12.3"
  }
 },
 "nbformat": 4,
 "nbformat_minor": 2
}
